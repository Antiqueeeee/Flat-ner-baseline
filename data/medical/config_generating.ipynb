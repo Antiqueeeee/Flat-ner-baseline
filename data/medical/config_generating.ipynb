{
 "cells": [
  {
   "cell_type": "code",
   "execution_count": 2,
   "id": "acaf5d0d",
   "metadata": {},
   "outputs": [],
   "source": [
    "config = {\n",
    "  \"dataset\": \"medical\",\n",
    "  \"save_path\": \"medical_model.pt\",\n",
    "  \"predict_path\": \"medical_output.json\",\n",
    "\n",
    "  \"dist_emb_size\": 130,\n",
    "  \"type_emb_size\": 20,\n",
    "  \"lstm_hid_size\": 1024,\n",
    "  \"conv_hid_size\": 160,\n",
    "  \"bert_hid_size\": 1024,\n",
    "  \"biaffine_size\": 1024,\n",
    "  \"ffnn_hid_size\": 240,\n",
    "  \"dilation\": [1, 2, 3],\n",
    "\n",
    "  \"emb_dropout\": 0.5,\n",
    "  \"conv_dropout\": 0.5,\n",
    "  \"out_dropout\": 0.33,\n",
    "\n",
    "  \"epochs\": 20,\n",
    "  \"batch_size\": 16,\n",
    "\n",
    "  \"learning_rate\": 1e-3,\n",
    "  \"weight_decay\": 0,\n",
    "  \"clip_grad_norm\": 5.0,\n",
    "\n",
    "  \"bert_name\": \"bert-base-chinese\",\n",
    "  \"bert_learning_rate\": 5e-6,\n",
    "  \"warm_factor\": 0.1,\n",
    "\n",
    "  \"use_bert_last_4_layers\": True,\n",
    "  \"seed\": 123\n",
    "}"
   ]
  },
  {
   "cell_type": "code",
   "execution_count": 4,
   "id": "fdf4c15c",
   "metadata": {},
   "outputs": [],
   "source": [
    "import json\n",
    "with open(\"medical.json\",\"w\",encoding=\"utf-8\") as f:\n",
    "    f.write(json.dumps(config,ensure_ascii=False))"
   ]
  },
  {
   "cell_type": "code",
   "execution_count": null,
   "id": "320965f6",
   "metadata": {},
   "outputs": [],
   "source": []
  }
 ],
 "metadata": {
  "kernelspec": {
   "display_name": "Python 3 (ipykernel)",
   "language": "python",
   "name": "python3"
  },
  "language_info": {
   "codemirror_mode": {
    "name": "ipython",
    "version": 3
   },
   "file_extension": ".py",
   "mimetype": "text/x-python",
   "name": "python",
   "nbconvert_exporter": "python",
   "pygments_lexer": "ipython3",
   "version": "3.7.13"
  }
 },
 "nbformat": 4,
 "nbformat_minor": 5
}
